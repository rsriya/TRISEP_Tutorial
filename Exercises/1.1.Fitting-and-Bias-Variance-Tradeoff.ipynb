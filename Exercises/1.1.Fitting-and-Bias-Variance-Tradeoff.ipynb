{
  "cells": [
    {
      "cell_type": "markdown",
      "id": "170f683b-b1dd-4b22-ab7c-8693d93e9e6e",
      "metadata": {
        "id": "170f683b-b1dd-4b22-ab7c-8693d93e9e6e"
      },
      "source": [
        "<a href=\"https://colab.research.google.com/github/makagan/TRISEP_Tutorial/blob/main/Exercises/1.1.Fitting-and-Bias-Variance-Tradeoff.ipynb\" target=\"_parent\"><img src=\"https://colab.research.google.com/assets/colab-badge.svg\" alt=\"Open In Colab\"/></a>"
      ]
    },
    {
      "cell_type": "markdown",
      "id": "3df074e1-e5f8-4509-b757-570b1814cf6b",
      "metadata": {
        "id": "3df074e1-e5f8-4509-b757-570b1814cf6b"
      },
      "source": [
        "# Polynomial Fitting and Exploring the Bias Variance Tradeoff\n",
        "\n",
        "Adapted from [notebooks](https://github.com/odsl-team/block-course-apr24-ML/tree/main/Exercises) developed by Nicole Hartman and Lukas Heinrich\n"
      ]
    },
    {
      "cell_type": "code",
      "execution_count": 2,
      "id": "bff1891c",
      "metadata": {
        "id": "bff1891c"
      },
      "outputs": [],
      "source": [
        "import numpy as np\n",
        "import matplotlib.pyplot as plt\n",
        "import scipy.stats"
      ]
    },
    {
      "cell_type": "markdown",
      "id": "294969ed",
      "metadata": {
        "id": "294969ed"
      },
      "source": [
        "## Step 1: Write a function `generate_data(N)`\n",
        "\n",
        "Write a function `generate_data(N)` that produces `N` samples from the following model:\n",
        "\n",
        "$$\n",
        "p(s) = p(x,y) = p(y|x)p(x)\n",
        "$$\n",
        "\n",
        "with the following \"true\" underlying polynomial noisy model\n",
        "\n",
        "$$p(x) = \\mathrm{Uniform}(-1,1)$$\n",
        "$$p(y|x) = \\mathrm{Normal}(\\mu = f(x),\\sigma = 0.2)$$\n",
        "$$f(x) = \\sum_i p_i x^i$$,\n",
        "\n",
        "with $p_0 = -0.7, p_1 = 2.2, p_2 = 0.5, p_3 = 1.0$\n",
        "\n",
        "Hint: you can use `np.polyval` to evaluate a polynomial with a fixed set of coefficients (but watch out for the order)\n",
        "\n",
        "The function should return a array of `x` values and an array of `y` values"
      ]
    },
    {
      "cell_type": "code",
      "execution_count": 4,
      "id": "745a45a0-ca42-49e1-b946-76d26784eb2e",
      "metadata": {
        "id": "745a45a0-ca42-49e1-b946-76d26784eb2e"
      },
      "outputs": [],
      "source": [
        "coeffs_true = [1.0,0.5,2.2,-0.7] # fill in\n",
        "\n",
        "def generate_data(N):\n",
        "    x = np.random.uniform(-1.0, 1.0, size=N)\n",
        "    f = np.polyval(coeffs_true,x)\n",
        "    y = np.random.normal(loc=f, scale=0.2, size=N)\n",
        "    return x,y"
      ]
    },
    {
      "cell_type": "markdown",
      "id": "55ce736f",
      "metadata": {
        "id": "55ce736f"
      },
      "source": [
        "## Step 2: Plot Samples and Functions\n",
        "\n",
        "Write a function `plot(ax, train_x, train_y, p_trained, p_true)` that\n",
        "takes a matplotlib axis object and plots\n",
        "\n",
        "* plot the true function\n",
        "* plot a second (trained or random) function\n",
        "* plot the samples"
      ]
    },
    {
      "cell_type": "code",
      "execution_count": 8,
      "id": "53f78dc1",
      "metadata": {
        "id": "53f78dc1"
      },
      "outputs": [],
      "source": [
        "def plot(ax, train_x, train_y, p_trained, p_true):\n",
        "    func_x = np.linspace(-1.0, 1.0, 1000)\n",
        "    func_y = np.polyval(p_true,func_x)\n",
        "    ax.plot(func_x,func_y,label=\"True\")\n",
        "    y_trained = np.polyval(p_trained,func_x)\n",
        "    ax.plot(func_x,y_trained,label=\"Trained\")\n",
        "    ax.scatter(train_x,train_y)\n",
        "    ax.legend()"
      ]
    },
    {
      "cell_type": "markdown",
      "id": "be203707-3cfa-4896-8ab5-ddec41590307",
      "metadata": {
        "id": "be203707-3cfa-4896-8ab5-ddec41590307"
      },
      "source": [
        "Check your function:"
      ]
    },
    {
      "cell_type": "code",
      "execution_count": 9,
      "id": "47afa143",
      "metadata": {
        "id": "47afa143",
        "outputId": "24d7270b-cf8d-4456-e985-97593f931415",
        "colab": {
          "base_uri": "https://localhost:8080/",
          "height": 430
        }
      },
      "outputs": [
        {
          "output_type": "display_data",
          "data": {
            "text/plain": [
              "<Figure size 640x480 with 1 Axes>"
            ],
            "image/png": "[encoded data removed]"
          },
          "metadata": {}
        }
      ],
      "source": [
        "f = plt.figure()\n",
        "x,y = generate_data(10)\n",
        "plot(f.gca(),x,y,np.random.normal(size = (4,)), coeffs_true)"
      ]
    },
    {
      "cell_type": "markdown",
      "id": "93b901b3",
      "metadata": {
        "id": "93b901b3"
      },
      "source": [
        "## Step 3\n",
        "\n",
        "One can show that given a Hypothesis Set of Polynomial functions\n",
        "\n",
        "$$f(x) = \\sum_i w_i x^i$$\n",
        "\n",
        "and a risk function of the following form\n",
        "\n",
        "$$l(s) = l(x,y) = (y - f(x))^2$$\n",
        "\n",
        "there is a closed form solution for finding the empirical risk minimization, where the best fit coefficients $\\vec{w}$ is given by\n",
        "\n",
        "$$\n",
        "w = (X^T X)^{-1} X^T y\n",
        "$$\n",
        "\n",
        "where $X$ is the matrix with rows $x = (x_0,x_1,x_2,x_3,\\dots,x_d)$ and one row for each sample\n",
        "\n",
        "$$\n",
        "X = \\left(\n",
        "\\begin{array}{}\n",
        "x_0^{(1)},\\dots,x_d^{(1)}  \\\\\n",
        "x_0^{(2)},\\dots,x_d^{(2)}  \\\\\n",
        "\\dots \\\\\n",
        "x_0^{(n)},\\dots,x_d^{(n)}  \\\\\n",
        "\\end{array}\n",
        "\\right)\n",
        "$$\n",
        "\n",
        "* Write a function `learn(train_x, train_y, degree)` to return the $(d+1)$ optimal coefficients for a polynomial fit of degree $d$.\n",
        "* Fit a sampled of 5 data points with degree 4\n",
        "* Plot the Trained function together with the true function using the plotting method from the last step\n",
        "* Try this multiple time to get a feel for how much the data affects the fit\n",
        "* Try degree 1 and observe how the trained function is much less sensitive to the data"
      ]
    },
    {
      "cell_type": "code",
      "execution_count": null,
      "id": "c5898e3d",
      "metadata": {
        "id": "c5898e3d"
      },
      "outputs": [],
      "source": [
        "def learn(train_x, train_y, degree):\n",
        "    raise NotImplementedError"
      ]
    },
    {
      "cell_type": "code",
      "execution_count": null,
      "id": "29eeb4a3-ea71-4d78-9e03-cfea014a7b4c",
      "metadata": {
        "id": "29eeb4a3-ea71-4d78-9e03-cfea014a7b4c"
      },
      "outputs": [],
      "source": []
    },
    {
      "cell_type": "code",
      "execution_count": null,
      "id": "f8eec901-1757-4105-bab7-2143bd2e7a98",
      "metadata": {
        "id": "f8eec901-1757-4105-bab7-2143bd2e7a98"
      },
      "outputs": [],
      "source": []
    },
    {
      "cell_type": "markdown",
      "id": "1417efa7",
      "metadata": {
        "id": "1417efa7"
      },
      "source": [
        "## Step 4\n",
        "\n",
        "Write a function to evaluate the risk or loss of a sample. Use our loss function for which we have the training procedure above\n",
        "\n",
        "$$\n",
        "l(s) = l(x,y) = (f(x) - y)^2\n",
        "$$\n",
        "\n",
        "and right a function `risk(x,y_true, trained_coeffs)` to compute\n",
        "\n",
        "$$\n",
        "\\hat{L} = \\frac{1}{N}\\sum_i l(s_i) = \\frac{1}{N}\\sum_i l(x^{(i)},y^{(i)}) = \\frac{1}{N}\\sum_i ( f(x^{(i)}) - y^{(i)})^2\n",
        "$$\n",
        "\n",
        "* Draw a size 10 data sample and fit the result to obtain trained coefficients\n",
        "* Draw 10000 samples of size 10 and compute their empirical risk under the trained coefficients\n",
        "* Repeat the same but use the true coefficients of the underlying data-generating process\n",
        "* Histogram the two sets of 10,000 risk evaluations. Which one has lower average risk?"
      ]
    },
    {
      "cell_type": "code",
      "execution_count": null,
      "id": "b1307e1e",
      "metadata": {
        "id": "b1307e1e"
      },
      "outputs": [],
      "source": [
        "def risk(x, y_true, p):\n",
        "    raise NotImplementedError"
      ]
    },
    {
      "cell_type": "code",
      "execution_count": null,
      "id": "02baa9f3",
      "metadata": {
        "id": "02baa9f3"
      },
      "outputs": [],
      "source": []
    },
    {
      "cell_type": "markdown",
      "id": "66ec31c4",
      "metadata": {
        "id": "66ec31c4"
      },
      "source": [
        "## Step 5\n",
        "\n",
        "Explore how the fit improves when adding more data. Plot the best fit model for data set sizes of\n",
        "\n",
        "$$N = 5,10,100,200,1000$$"
      ]
    },
    {
      "cell_type": "code",
      "execution_count": null,
      "id": "53e2068e",
      "metadata": {
        "id": "53e2068e"
      },
      "outputs": [],
      "source": []
    },
    {
      "cell_type": "markdown",
      "id": "97abd1da",
      "metadata": {
        "id": "97abd1da"
      },
      "source": [
        "## Step 6\n",
        "\n",
        "Explore how the fit changes when using more and more complex models. Plot the best fit model for degrees\n",
        "\n",
        "$$d = 1,2,5,10$$"
      ]
    },
    {
      "cell_type": "code",
      "execution_count": null,
      "id": "780c82ce",
      "metadata": {
        "id": "780c82ce"
      },
      "outputs": [],
      "source": []
    },
    {
      "cell_type": "markdown",
      "id": "d20cfb13",
      "metadata": {
        "id": "d20cfb13"
      },
      "source": [
        "## Step 7 Bias-Variance Tradeoff\n",
        "\n",
        "Draw two datasets:\n",
        "\n",
        "* A train dataset with $N=10$\n",
        "* A test dataset with $N=1000$\n",
        "\n",
        "Perform trainings on the train dataset for degrees $1\\dots8$ and store the training coefficients\n",
        "\n",
        "* Evaluate the risk under the various trainings for the train and the test dataset\n",
        "* Plot the train and test risk as a function of the polynomial degree"
      ]
    },
    {
      "cell_type": "code",
      "execution_count": null,
      "id": "ad47343d",
      "metadata": {
        "id": "ad47343d"
      },
      "outputs": [],
      "source": []
    },
    {
      "cell_type": "code",
      "execution_count": null,
      "id": "887a3db0",
      "metadata": {
        "id": "887a3db0"
      },
      "outputs": [],
      "source": []
    }
  ],
  "metadata": {
    "kernelspec": {
      "display_name": "Python 3 (ipykernel)",
      "language": "python",
      "name": "python3"
    },
    "language_info": {
      "codemirror_mode": {
        "name": "ipython",
        "version": 3
      },
      "file_extension": ".py",
      "mimetype": "text/x-python",
      "name": "python",
      "nbconvert_exporter": "python",
      "pygments_lexer": "ipython3",
      "version": "3.9.18"
    },
    "colab": {
      "provenance": []
    }
  },
  "nbformat": 4,
  "nbformat_minor": 5
}